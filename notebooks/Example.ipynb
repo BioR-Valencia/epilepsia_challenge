{
 "cells": [
  {
   "cell_type": "markdown",
   "id": "6b028297-27f3-441d-bffb-a7eb2ebab17a",
   "metadata": {},
   "source": [
    "## Some configuration before start"
   ]
  },
  {
   "cell_type": "code",
   "execution_count": 14,
   "id": "770ba51f-0d1b-4e15-9218-669a484a9f4c",
   "metadata": {},
   "outputs": [
    {
     "name": "stdout",
     "output_type": "stream",
     "text": [
      "The autoreload extension is already loaded. To reload it, use:\n",
      "  %reload_ext autoreload\n"
     ]
    }
   ],
   "source": [
    "# Jupyter magic extensions that makes our live easier\n",
    "%load_ext autoreload\n",
    "%autoreload 2"
   ]
  },
  {
   "cell_type": "code",
   "execution_count": null,
   "id": "2f8852a8-0c01-40bf-9ea6-b678aded8d73",
   "metadata": {},
   "outputs": [],
   "source": [
    "import logging\n",
    "import sys"
   ]
  },
  {
   "cell_type": "code",
   "execution_count": 22,
   "id": "a4455931-2054-47f9-844b-0207ef9c9623",
   "metadata": {},
   "outputs": [],
   "source": [
    "# This is needed to see the python scripts logger output, which is the fancy way of print things\n",
    "logging.basicConfig(\n",
    "    format=\"%(asctime)s | %(levelname)s: %(message)s\",\n",
    "    level=logging.INFO,\n",
    "    stream=sys.stdout,\n",
    ")"
   ]
  },
  {
   "cell_type": "markdown",
   "id": "d528c56b-b590-450e-87d4-d3000d751504",
   "metadata": {},
   "source": [
    "## We can start now!\n",
    "\n",
    "Some \"best practices\" things that I readed somewhere:\n",
    "- Don't mix imports and code in a cell. Make one cell with the imports, and  a second one with the code."
   ]
  },
  {
   "cell_type": "code",
   "execution_count": 19,
   "id": "e7dc7ac2-469e-4b77-9df7-bb49aea96a2d",
   "metadata": {},
   "outputs": [],
   "source": [
    "from src.data.make_dataset import example_function"
   ]
  },
  {
   "cell_type": "code",
   "execution_count": 23,
   "id": "0572ced8-b86f-44c3-863c-f2c843a5e2e0",
   "metadata": {},
   "outputs": [
    {
     "name": "stdout",
     "output_type": "stream",
     "text": [
      "This is a print: Importing dataset\n",
      "2022-12-14 00:22:40,010 | INFO : This is a logging with info level: Making final data set from raw data\n"
     ]
    }
   ],
   "source": [
    "example_function()"
   ]
  },
  {
   "cell_type": "code",
   "execution_count": 24,
   "id": "49a5df91-3762-4b5f-b74c-20d37accc3bd",
   "metadata": {},
   "outputs": [],
   "source": [
    "def hello_world():\n",
    "    print(\"Hello World\")"
   ]
  },
  {
   "cell_type": "code",
   "execution_count": 25,
   "id": "47a9b52a-773d-4b5c-a479-4dc064e1c5b5",
   "metadata": {},
   "outputs": [
    {
     "name": "stdout",
     "output_type": "stream",
     "text": [
      "Hello World\n"
     ]
    }
   ],
   "source": [
    "hello_world()"
   ]
  },
  {
   "cell_type": "markdown",
   "id": "b186ccde-554e-4094-924b-9a0c7104958c",
   "metadata": {},
   "source": [
    "## Data Loading\n",
    "\n",
    "Here I use a classes and other things to practice, but you can create (always should be at the proper script) the function that you specifically need. If you want, you can try to expand the current loader class, and I'll review it."
   ]
  },
  {
   "cell_type": "code",
   "execution_count": 30,
   "id": "fae24973-608f-4433-95aa-061d81c4df39",
   "metadata": {},
   "outputs": [],
   "source": [
    "from src.data.make_dataset import PandasDatasetLoader"
   ]
  },
  {
   "cell_type": "code",
   "execution_count": 84,
   "id": "bfcaf06f-68f5-4ba1-9d34-dbaceade0b3e",
   "metadata": {},
   "outputs": [
    {
     "name": "stdout",
     "output_type": "stream",
     "text": [
      "['010', '011', '012', '013', '014', '015', '016']\n"
     ]
    }
   ],
   "source": [
    "dataset_path = \"/media/jmjl/UBUNTU 20_0/Epilepsy challenge\"\n",
    "dataset = PandasDatasetLoader(dataset_path).load_dataset(\n",
    "    max_patients_to_load=1, patients_to_skip=1\n",
    ")"
   ]
  },
  {
   "cell_type": "code",
   "execution_count": 85,
   "id": "7ada5969-89b7-43d2-983a-1aa1ec35fc3b",
   "metadata": {},
   "outputs": [
    {
     "data": {
      "text/html": [
       "<div>\n",
       "<style scoped>\n",
       "    .dataframe tbody tr th:only-of-type {\n",
       "        vertical-align: middle;\n",
       "    }\n",
       "\n",
       "    .dataframe tbody tr th {\n",
       "        vertical-align: top;\n",
       "    }\n",
       "\n",
       "    .dataframe thead th {\n",
       "        text-align: right;\n",
       "    }\n",
       "</style>\n",
       "<table border=\"1\" class=\"dataframe\">\n",
       "  <thead>\n",
       "    <tr style=\"text-align: right;\">\n",
       "      <th></th>\n",
       "      <th>utc_timestamp</th>\n",
       "      <th>acc_x</th>\n",
       "      <th>acc_y</th>\n",
       "      <th>acc_z</th>\n",
       "      <th>acc_mag</th>\n",
       "      <th>bvp</th>\n",
       "      <th>eda</th>\n",
       "      <th>hr</th>\n",
       "      <th>temp</th>\n",
       "      <th>patient_id</th>\n",
       "    </tr>\n",
       "  </thead>\n",
       "  <tbody>\n",
       "    <tr>\n",
       "      <th>0</th>\n",
       "      <td>1.583591e+09</td>\n",
       "      <td>41.533081</td>\n",
       "      <td>45.005056</td>\n",
       "      <td>21.003374</td>\n",
       "      <td>63.732517</td>\n",
       "      <td>-193.455192</td>\n",
       "      <td>0.138622</td>\n",
       "      <td>80.481412</td>\n",
       "      <td>29.989943</td>\n",
       "      <td>011</td>\n",
       "    </tr>\n",
       "    <tr>\n",
       "      <th>1</th>\n",
       "      <td>1.583591e+09</td>\n",
       "      <td>41.283947</td>\n",
       "      <td>45.005056</td>\n",
       "      <td>21.003374</td>\n",
       "      <td>63.573495</td>\n",
       "      <td>-201.648068</td>\n",
       "      <td>0.138296</td>\n",
       "      <td>80.478099</td>\n",
       "      <td>29.989943</td>\n",
       "      <td>011</td>\n",
       "    </tr>\n",
       "    <tr>\n",
       "      <th>2</th>\n",
       "      <td>1.583591e+09</td>\n",
       "      <td>41.029513</td>\n",
       "      <td>45.005056</td>\n",
       "      <td>21.003374</td>\n",
       "      <td>63.414473</td>\n",
       "      <td>-208.952560</td>\n",
       "      <td>0.138296</td>\n",
       "      <td>80.474786</td>\n",
       "      <td>29.989943</td>\n",
       "      <td>011</td>\n",
       "    </tr>\n",
       "    <tr>\n",
       "      <th>3</th>\n",
       "      <td>1.583591e+09</td>\n",
       "      <td>41.003009</td>\n",
       "      <td>45.005056</td>\n",
       "      <td>21.003374</td>\n",
       "      <td>63.393270</td>\n",
       "      <td>-208.162885</td>\n",
       "      <td>0.138296</td>\n",
       "      <td>80.471473</td>\n",
       "      <td>29.989943</td>\n",
       "      <td>011</td>\n",
       "    </tr>\n",
       "    <tr>\n",
       "      <th>4</th>\n",
       "      <td>1.583591e+09</td>\n",
       "      <td>41.003009</td>\n",
       "      <td>45.005056</td>\n",
       "      <td>21.003374</td>\n",
       "      <td>63.393270</td>\n",
       "      <td>-206.484826</td>\n",
       "      <td>0.138296</td>\n",
       "      <td>80.468159</td>\n",
       "      <td>29.989943</td>\n",
       "      <td>011</td>\n",
       "    </tr>\n",
       "    <tr>\n",
       "      <th>...</th>\n",
       "      <td>...</td>\n",
       "      <td>...</td>\n",
       "      <td>...</td>\n",
       "      <td>...</td>\n",
       "      <td>...</td>\n",
       "      <td>...</td>\n",
       "      <td>...</td>\n",
       "      <td>...</td>\n",
       "      <td>...</td>\n",
       "      <td>...</td>\n",
       "    </tr>\n",
       "    <tr>\n",
       "      <th>76795</th>\n",
       "      <td>1.583594e+09</td>\n",
       "      <td>4.003950</td>\n",
       "      <td>39.004636</td>\n",
       "      <td>49.998339</td>\n",
       "      <td>62.534553</td>\n",
       "      <td>7.714455</td>\n",
       "      <td>0.125606</td>\n",
       "      <td>76.981190</td>\n",
       "      <td>29.149797</td>\n",
       "      <td>011</td>\n",
       "    </tr>\n",
       "    <tr>\n",
       "      <th>76796</th>\n",
       "      <td>1.583594e+09</td>\n",
       "      <td>4.003950</td>\n",
       "      <td>39.004636</td>\n",
       "      <td>49.998339</td>\n",
       "      <td>62.534553</td>\n",
       "      <td>6.431234</td>\n",
       "      <td>0.125606</td>\n",
       "      <td>76.984503</td>\n",
       "      <td>29.149797</td>\n",
       "      <td>011</td>\n",
       "    </tr>\n",
       "    <tr>\n",
       "      <th>76797</th>\n",
       "      <td>1.583594e+09</td>\n",
       "      <td>4.003950</td>\n",
       "      <td>39.004636</td>\n",
       "      <td>49.998339</td>\n",
       "      <td>62.534553</td>\n",
       "      <td>5.148012</td>\n",
       "      <td>0.125606</td>\n",
       "      <td>76.986160</td>\n",
       "      <td>29.149797</td>\n",
       "      <td>011</td>\n",
       "    </tr>\n",
       "    <tr>\n",
       "      <th>76798</th>\n",
       "      <td>1.583594e+09</td>\n",
       "      <td>4.003950</td>\n",
       "      <td>39.004636</td>\n",
       "      <td>49.998339</td>\n",
       "      <td>62.534553</td>\n",
       "      <td>3.864791</td>\n",
       "      <td>0.125606</td>\n",
       "      <td>76.989473</td>\n",
       "      <td>29.149797</td>\n",
       "      <td>011</td>\n",
       "    </tr>\n",
       "    <tr>\n",
       "      <th>76799</th>\n",
       "      <td>1.583594e+09</td>\n",
       "      <td>4.003950</td>\n",
       "      <td>39.004636</td>\n",
       "      <td>50.003640</td>\n",
       "      <td>62.539854</td>\n",
       "      <td>2.778988</td>\n",
       "      <td>0.125606</td>\n",
       "      <td>76.991129</td>\n",
       "      <td>29.149797</td>\n",
       "      <td>011</td>\n",
       "    </tr>\n",
       "  </tbody>\n",
       "</table>\n",
       "<p>384000 rows × 10 columns</p>\n",
       "</div>"
      ],
      "text/plain": [
       "       utc_timestamp      acc_x      acc_y  ...         hr       temp  patient_id\n",
       "0       1.583591e+09  41.533081  45.005056  ...  80.481412  29.989943         011\n",
       "1       1.583591e+09  41.283947  45.005056  ...  80.478099  29.989943         011\n",
       "2       1.583591e+09  41.029513  45.005056  ...  80.474786  29.989943         011\n",
       "3       1.583591e+09  41.003009  45.005056  ...  80.471473  29.989943         011\n",
       "4       1.583591e+09  41.003009  45.005056  ...  80.468159  29.989943         011\n",
       "...              ...        ...        ...  ...        ...        ...         ...\n",
       "76795   1.583594e+09   4.003950  39.004636  ...  76.981190  29.149797         011\n",
       "76796   1.583594e+09   4.003950  39.004636  ...  76.984503  29.149797         011\n",
       "76797   1.583594e+09   4.003950  39.004636  ...  76.986160  29.149797         011\n",
       "76798   1.583594e+09   4.003950  39.004636  ...  76.989473  29.149797         011\n",
       "76799   1.583594e+09   4.003950  39.004636  ...  76.991129  29.149797         011\n",
       "\n",
       "[384000 rows x 10 columns]"
      ]
     },
     "execution_count": 85,
     "metadata": {},
     "output_type": "execute_result"
    }
   ],
   "source": [
    "dataset"
   ]
  }
 ],
 "metadata": {
  "kernelspec": {
   "display_name": "Python 3 (ipykernel)",
   "language": "python",
   "name": "python3"
  },
  "language_info": {
   "codemirror_mode": {
    "name": "ipython",
    "version": 3
   },
   "file_extension": ".py",
   "mimetype": "text/x-python",
   "name": "python",
   "nbconvert_exporter": "python",
   "pygments_lexer": "ipython3",
   "version": "3.10.6"
  }
 },
 "nbformat": 4,
 "nbformat_minor": 5
}
