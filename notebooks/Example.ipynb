{
 "cells": [
  {
   "cell_type": "markdown",
   "id": "6b028297-27f3-441d-bffb-a7eb2ebab17a",
   "metadata": {},
   "source": [
    "## Some configuration before start"
   ]
  },
  {
   "cell_type": "code",
   "execution_count": 14,
   "id": "770ba51f-0d1b-4e15-9218-669a484a9f4c",
   "metadata": {},
   "outputs": [
    {
     "name": "stdout",
     "output_type": "stream",
     "text": [
      "The autoreload extension is already loaded. To reload it, use:\n",
      "  %reload_ext autoreload\n"
     ]
    }
   ],
   "source": [
    "# Jupyter magic extensions that makes our live easier\n",
    "%load_ext autoreload\n",
    "%autoreload 2"
   ]
  },
  {
   "cell_type": "code",
   "execution_count": null,
   "id": "2f8852a8-0c01-40bf-9ea6-b678aded8d73",
   "metadata": {},
   "outputs": [],
   "source": [
    "import logging\n",
    "import sys"
   ]
  },
  {
   "cell_type": "code",
   "execution_count": 22,
   "id": "a4455931-2054-47f9-844b-0207ef9c9623",
   "metadata": {},
   "outputs": [],
   "source": [
    "# This is needed to see the python scripts logger output, which is the fancy way of print things\n",
    "logging.basicConfig(\n",
    "    format=\"%(asctime)s | %(levelname)s: %(message)s\",\n",
    "    level=logging.INFO,\n",
    "    stream=sys.stdout,\n",
    ")"
   ]
  },
  {
   "cell_type": "markdown",
   "id": "d528c56b-b590-450e-87d4-d3000d751504",
   "metadata": {},
   "source": [
    "## We can start now!\n",
    "\n",
    "Some \"best practices\" things that I readed somewhere:\n",
    "- Don't mix imports and code in a cell. Make one cell with the imports, and  a second one with the code."
   ]
  },
  {
   "cell_type": "code",
   "execution_count": 19,
   "id": "e7dc7ac2-469e-4b77-9df7-bb49aea96a2d",
   "metadata": {},
   "outputs": [],
   "source": [
    "from src.data.make_dataset import example_function"
   ]
  },
  {
   "cell_type": "code",
   "execution_count": 23,
   "id": "0572ced8-b86f-44c3-863c-f2c843a5e2e0",
   "metadata": {},
   "outputs": [
    {
     "name": "stdout",
     "output_type": "stream",
     "text": [
      "This is a print: Importing dataset\n",
      "2022-12-14 00:22:40,010 | INFO : This is a logging with info level: Making final data set from raw data\n"
     ]
    }
   ],
   "source": [
    "example_function()"
   ]
  },
  {
   "cell_type": "code",
   "execution_count": 24,
   "id": "49a5df91-3762-4b5f-b74c-20d37accc3bd",
   "metadata": {},
   "outputs": [],
   "source": [
    "def hello_world():\n",
    "    print(\"Hello World\")"
   ]
  },
  {
   "cell_type": "code",
   "execution_count": 25,
   "id": "47a9b52a-773d-4b5c-a479-4dc064e1c5b5",
   "metadata": {},
   "outputs": [
    {
     "name": "stdout",
     "output_type": "stream",
     "text": [
      "Hello World\n"
     ]
    }
   ],
   "source": [
    "hello_world()"
   ]
  }
 ],
 "metadata": {
  "kernelspec": {
   "display_name": "Python 3 (ipykernel)",
   "language": "python",
   "name": "python3"
  },
  "language_info": {
   "codemirror_mode": {
    "name": "ipython",
    "version": 3
   },
   "file_extension": ".py",
   "mimetype": "text/x-python",
   "name": "python",
   "nbconvert_exporter": "python",
   "pygments_lexer": "ipython3",
   "version": "3.10.6"
  }
 },
 "nbformat": 4,
 "nbformat_minor": 5
}
