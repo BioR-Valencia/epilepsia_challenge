{
 "cells": [
  {
   "cell_type": "markdown",
   "id": "6b028297-27f3-441d-bffb-a7eb2ebab17a",
   "metadata": {},
   "source": [
    "## Some configuration before start"
   ]
  },
  {
   "cell_type": "code",
   "execution_count": 1,
   "id": "770ba51f-0d1b-4e15-9218-669a484a9f4c",
   "metadata": {},
   "outputs": [],
   "source": [
    "# Jupyter magic extensions that makes our live easier\n",
    "%load_ext autoreload\n",
    "%autoreload 2"
   ]
  },
  {
   "cell_type": "code",
   "execution_count": 2,
   "id": "2f8852a8-0c01-40bf-9ea6-b678aded8d73",
   "metadata": {},
   "outputs": [],
   "source": [
    "import logging\n",
    "import sys"
   ]
  },
  {
   "cell_type": "code",
   "execution_count": 3,
   "id": "a4455931-2054-47f9-844b-0207ef9c9623",
   "metadata": {},
   "outputs": [],
   "source": [
    "# This is needed to see the python scripts logger output, which is the fancy way of print things\n",
    "logging.basicConfig(\n",
    "    format=\"%(asctime)s | %(levelname)s: %(message)s\",\n",
    "    level=logging.INFO,\n",
    "    stream=sys.stdout,\n",
    ")"
   ]
  },
  {
   "cell_type": "markdown",
   "id": "d528c56b-b590-450e-87d4-d3000d751504",
   "metadata": {},
   "source": [
    "## We can start now!\n",
    "\n",
    "Some \"best practices\" things that I readed somewhere:\n",
    "- Don't mix imports and code in a cell. Make one cell with the imports, and  a second one with the code."
   ]
  },
  {
   "cell_type": "code",
   "execution_count": 4,
   "id": "e7dc7ac2-469e-4b77-9df7-bb49aea96a2d",
   "metadata": {},
   "outputs": [],
   "source": [
    "from src.data.make_dataset import example_function"
   ]
  },
  {
   "cell_type": "code",
   "execution_count": 5,
   "id": "0572ced8-b86f-44c3-863c-f2c843a5e2e0",
   "metadata": {},
   "outputs": [
    {
     "name": "stdout",
     "output_type": "stream",
     "text": [
      "This is a print: Importing dataset\n",
      "2023-02-12 14:01:31,660 | INFO: This is a logging with info level: Making final data set from raw data\n"
     ]
    }
   ],
   "source": [
    "example_function()"
   ]
  },
  {
   "cell_type": "code",
   "execution_count": 6,
   "id": "49a5df91-3762-4b5f-b74c-20d37accc3bd",
   "metadata": {},
   "outputs": [],
   "source": [
    "def hello_world():\n",
    "    print(\"Hello World\")"
   ]
  },
  {
   "cell_type": "code",
   "execution_count": 7,
   "id": "47a9b52a-773d-4b5c-a479-4dc064e1c5b5",
   "metadata": {},
   "outputs": [
    {
     "name": "stdout",
     "output_type": "stream",
     "text": [
      "Hello World\n"
     ]
    }
   ],
   "source": [
    "hello_world()"
   ]
  },
  {
   "cell_type": "markdown",
   "id": "b186ccde-554e-4094-924b-9a0c7104958c",
   "metadata": {},
   "source": [
    "## Data Loading\n",
    "\n",
    "Here I use a classes and other things to practice, but you can create (always should be at the proper script) the function that you specifically need. If you want, you can try to expand the current loader class, and I'll review it."
   ]
  },
  {
   "cell_type": "code",
   "execution_count": 8,
   "id": "fae24973-608f-4433-95aa-061d81c4df39",
   "metadata": {},
   "outputs": [],
   "source": [
    "from src.data.make_dataset import PandasDatasetLoader"
   ]
  },
  {
   "cell_type": "code",
   "execution_count": 9,
   "id": "bfcaf06f-68f5-4ba1-9d34-dbaceade0b3e",
   "metadata": {},
   "outputs": [],
   "source": [
    "dataset_path = \"../data/raw\"\n",
    "patient_id = 1110\n",
    "dataset = PandasDatasetLoader(dataset_path).load_dataset(\n",
    "    patient_id=patient_id,\n",
    "    max_patient_files_to_load=10,\n",
    "    patient_files_to_skip=0,\n",
    "    skip_missing_files=True,\n",
    ")"
   ]
  },
  {
   "cell_type": "code",
   "execution_count": 10,
   "id": "7ada5969-89b7-43d2-983a-1aa1ec35fc3b",
   "metadata": {},
   "outputs": [
    {
     "data": {
      "text/plain": "       utc_timestamp      acc_x     acc_y      acc_z    acc_mag        bvp  \\\n0       1.583462e+09        NaN       NaN        NaN        NaN        NaN   \n1       1.583462e+09        NaN       NaN        NaN        NaN        NaN   \n2       1.583462e+09        NaN       NaN        NaN        NaN        NaN   \n3       1.583462e+09        NaN       NaN        NaN        NaN        NaN   \n4       1.583462e+09        NaN       NaN        NaN        NaN        NaN   \n...              ...        ...       ...        ...        ...        ...   \n76795   1.583468e+09  49.997694  25.00085  28.004717  61.519593  65.287217   \n76796   1.583468e+09  49.997694  25.00085  28.004717  61.519593  64.098439   \n76797   1.583468e+09  49.997694  25.00085  28.004717  61.519593  63.092550   \n76798   1.583468e+09  49.997694  25.00085  28.004717  61.519593  62.818217   \n76799   1.583468e+09  49.997694  25.00085  27.972874  61.503672  62.818217   \n\n            eda         hr       temp  \\\n0           NaN        NaN        NaN   \n1           NaN        NaN        NaN   \n2           NaN        NaN        NaN   \n3           NaN        NaN        NaN   \n4           NaN        NaN        NaN   \n...         ...        ...        ...   \n76795  0.256632  47.450892  34.889895   \n76796  0.256737  47.450892  34.889895   \n76797  0.256737  47.450892  34.889895   \n76798  0.256737  47.450892  34.889895   \n76799  0.256842  47.450892  34.889895   \n\n                                     patient_id  label  \n0      1110/010/UTC-2020_03_06-02_40_00.parquet      0  \n1      1110/010/UTC-2020_03_06-02_40_00.parquet      0  \n2      1110/010/UTC-2020_03_06-02_40_00.parquet      0  \n3      1110/010/UTC-2020_03_06-02_40_00.parquet      0  \n4      1110/010/UTC-2020_03_06-02_40_00.parquet      0  \n...                                         ...    ...  \n76795  1110/010/UTC-2020_03_06-04_10_00.parquet      0  \n76796  1110/010/UTC-2020_03_06-04_10_00.parquet      0  \n76797  1110/010/UTC-2020_03_06-04_10_00.parquet      0  \n76798  1110/010/UTC-2020_03_06-04_10_00.parquet      0  \n76799  1110/010/UTC-2020_03_06-04_10_00.parquet      0  \n\n[768000 rows x 11 columns]",
      "text/html": "<div>\n<style scoped>\n    .dataframe tbody tr th:only-of-type {\n        vertical-align: middle;\n    }\n\n    .dataframe tbody tr th {\n        vertical-align: top;\n    }\n\n    .dataframe thead th {\n        text-align: right;\n    }\n</style>\n<table border=\"1\" class=\"dataframe\">\n  <thead>\n    <tr style=\"text-align: right;\">\n      <th></th>\n      <th>utc_timestamp</th>\n      <th>acc_x</th>\n      <th>acc_y</th>\n      <th>acc_z</th>\n      <th>acc_mag</th>\n      <th>bvp</th>\n      <th>eda</th>\n      <th>hr</th>\n      <th>temp</th>\n      <th>patient_id</th>\n      <th>label</th>\n    </tr>\n  </thead>\n  <tbody>\n    <tr>\n      <th>0</th>\n      <td>1.583462e+09</td>\n      <td>NaN</td>\n      <td>NaN</td>\n      <td>NaN</td>\n      <td>NaN</td>\n      <td>NaN</td>\n      <td>NaN</td>\n      <td>NaN</td>\n      <td>NaN</td>\n      <td>1110/010/UTC-2020_03_06-02_40_00.parquet</td>\n      <td>0</td>\n    </tr>\n    <tr>\n      <th>1</th>\n      <td>1.583462e+09</td>\n      <td>NaN</td>\n      <td>NaN</td>\n      <td>NaN</td>\n      <td>NaN</td>\n      <td>NaN</td>\n      <td>NaN</td>\n      <td>NaN</td>\n      <td>NaN</td>\n      <td>1110/010/UTC-2020_03_06-02_40_00.parquet</td>\n      <td>0</td>\n    </tr>\n    <tr>\n      <th>2</th>\n      <td>1.583462e+09</td>\n      <td>NaN</td>\n      <td>NaN</td>\n      <td>NaN</td>\n      <td>NaN</td>\n      <td>NaN</td>\n      <td>NaN</td>\n      <td>NaN</td>\n      <td>NaN</td>\n      <td>1110/010/UTC-2020_03_06-02_40_00.parquet</td>\n      <td>0</td>\n    </tr>\n    <tr>\n      <th>3</th>\n      <td>1.583462e+09</td>\n      <td>NaN</td>\n      <td>NaN</td>\n      <td>NaN</td>\n      <td>NaN</td>\n      <td>NaN</td>\n      <td>NaN</td>\n      <td>NaN</td>\n      <td>NaN</td>\n      <td>1110/010/UTC-2020_03_06-02_40_00.parquet</td>\n      <td>0</td>\n    </tr>\n    <tr>\n      <th>4</th>\n      <td>1.583462e+09</td>\n      <td>NaN</td>\n      <td>NaN</td>\n      <td>NaN</td>\n      <td>NaN</td>\n      <td>NaN</td>\n      <td>NaN</td>\n      <td>NaN</td>\n      <td>NaN</td>\n      <td>1110/010/UTC-2020_03_06-02_40_00.parquet</td>\n      <td>0</td>\n    </tr>\n    <tr>\n      <th>...</th>\n      <td>...</td>\n      <td>...</td>\n      <td>...</td>\n      <td>...</td>\n      <td>...</td>\n      <td>...</td>\n      <td>...</td>\n      <td>...</td>\n      <td>...</td>\n      <td>...</td>\n      <td>...</td>\n    </tr>\n    <tr>\n      <th>76795</th>\n      <td>1.583468e+09</td>\n      <td>49.997694</td>\n      <td>25.00085</td>\n      <td>28.004717</td>\n      <td>61.519593</td>\n      <td>65.287217</td>\n      <td>0.256632</td>\n      <td>47.450892</td>\n      <td>34.889895</td>\n      <td>1110/010/UTC-2020_03_06-04_10_00.parquet</td>\n      <td>0</td>\n    </tr>\n    <tr>\n      <th>76796</th>\n      <td>1.583468e+09</td>\n      <td>49.997694</td>\n      <td>25.00085</td>\n      <td>28.004717</td>\n      <td>61.519593</td>\n      <td>64.098439</td>\n      <td>0.256737</td>\n      <td>47.450892</td>\n      <td>34.889895</td>\n      <td>1110/010/UTC-2020_03_06-04_10_00.parquet</td>\n      <td>0</td>\n    </tr>\n    <tr>\n      <th>76797</th>\n      <td>1.583468e+09</td>\n      <td>49.997694</td>\n      <td>25.00085</td>\n      <td>28.004717</td>\n      <td>61.519593</td>\n      <td>63.092550</td>\n      <td>0.256737</td>\n      <td>47.450892</td>\n      <td>34.889895</td>\n      <td>1110/010/UTC-2020_03_06-04_10_00.parquet</td>\n      <td>0</td>\n    </tr>\n    <tr>\n      <th>76798</th>\n      <td>1.583468e+09</td>\n      <td>49.997694</td>\n      <td>25.00085</td>\n      <td>28.004717</td>\n      <td>61.519593</td>\n      <td>62.818217</td>\n      <td>0.256737</td>\n      <td>47.450892</td>\n      <td>34.889895</td>\n      <td>1110/010/UTC-2020_03_06-04_10_00.parquet</td>\n      <td>0</td>\n    </tr>\n    <tr>\n      <th>76799</th>\n      <td>1.583468e+09</td>\n      <td>49.997694</td>\n      <td>25.00085</td>\n      <td>27.972874</td>\n      <td>61.503672</td>\n      <td>62.818217</td>\n      <td>0.256842</td>\n      <td>47.450892</td>\n      <td>34.889895</td>\n      <td>1110/010/UTC-2020_03_06-04_10_00.parquet</td>\n      <td>0</td>\n    </tr>\n  </tbody>\n</table>\n<p>768000 rows × 11 columns</p>\n</div>"
     },
     "execution_count": 10,
     "metadata": {},
     "output_type": "execute_result"
    }
   ],
   "source": [
    "dataset"
   ]
  },
  {
   "cell_type": "code",
   "execution_count": 13,
   "outputs": [],
   "source": [
    "train_generator, test_generator = PandasDatasetLoader(dataset_path).get_generators(1110)"
   ],
   "metadata": {
    "collapsed": false
   }
  },
  {
   "cell_type": "code",
   "execution_count": 15,
   "outputs": [
    {
     "data": {
      "text/plain": "(       utc_timestamp      acc_x      acc_y      acc_z    acc_mag        bvp  \\\n 0       1.583667e+09 -39.615715 -46.999624  18.003164  63.048723 -59.111772   \n 1       1.583667e+09 -39.366581 -46.999624  18.003164  62.895002 -61.382087   \n 2       1.583667e+09 -39.117446 -46.999624  18.003164  62.741281 -63.553693   \n 3       1.583667e+09 -39.128048 -46.999624  18.003164  62.746582 -65.824008   \n 4       1.583667e+09 -39.377182 -46.999624  18.003164  62.900303 -68.193032   \n ...              ...        ...        ...        ...        ...        ...   \n 76795   1.583668e+09 -38.995530 -46.999624  18.718762  62.873799  21.533764   \n 76796   1.583668e+09 -38.995530 -46.999624  18.464327  62.799589  20.250542   \n 76797   1.583668e+09 -38.995530 -46.999624  18.215193  62.730680  18.967321   \n 76798   1.583668e+09 -39.032635 -46.999624  18.003164  62.688274  17.684099   \n 76799   1.583668e+09 -39.281769 -46.999624  18.003164  62.841995  16.400878   \n \n             eda         hr       temp  \n 0      0.314339  49.183168  35.569883  \n 1      0.314339  49.183168  35.569883  \n 2      0.314339  49.183168  35.569883  \n 3      0.314339  49.184825  35.569883  \n 4      0.314014  49.184825  35.569883  \n ...         ...        ...        ...  \n 76795  0.292537  45.944676  35.409903  \n 76796  0.292537  45.944676  35.409903  \n 76797  0.292537  45.946333  35.409903  \n 76798  0.292537  45.946333  35.409903  \n 76799  0.292537  45.946333  35.409903  \n \n [76800 rows x 9 columns],\n 1,\n '1110/011/UTC-2020_03_08-11_30_00.parquet')"
     },
     "execution_count": 15,
     "metadata": {},
     "output_type": "execute_result"
    }
   ],
   "source": [
    "next(train_generator)"
   ],
   "metadata": {
    "collapsed": false
   }
  },
  {
   "cell_type": "code",
   "execution_count": 29,
   "outputs": [
    {
     "name": "stderr",
     "output_type": "stream",
     "text": [
      "/tmp/ipykernel_377924/3065629722.py:2: SettingWithCopyWarning: \n",
      "A value is trying to be set on a copy of a slice from a DataFrame\n",
      "\n",
      "See the caveats in the documentation: https://pandas.pydata.org/pandas-docs/stable/user_guide/indexing.html#returning-a-view-versus-a-copy\n",
      "  dataset[\"label\"].iloc[:100000] = 1\n"
     ]
    }
   ],
   "source": [
    "dataset[\"label\"] = 0\n",
    "dataset[\"label\"].iloc[:100000] = 1"
   ],
   "metadata": {
    "collapsed": false
   }
  },
  {
   "cell_type": "code",
   "execution_count": 30,
   "outputs": [],
   "source": [
    "from sklearn.model_selection import train_test_split\n",
    "from sklearn.linear_model import LogisticRegression"
   ],
   "metadata": {
    "collapsed": false
   }
  },
  {
   "cell_type": "code",
   "execution_count": 31,
   "outputs": [],
   "source": [
    "X_train, X_test, y_train, y_test = train_test_split(\n",
    "    dataset.drop(\"label\", axis=1), dataset[\"label\"], test_size=0.33, random_state=42\n",
    ")"
   ],
   "metadata": {
    "collapsed": false
   }
  },
  {
   "cell_type": "code",
   "execution_count": 32,
   "outputs": [],
   "source": [
    "model = LogisticRegression()"
   ],
   "metadata": {
    "collapsed": false
   }
  },
  {
   "cell_type": "code",
   "execution_count": 33,
   "outputs": [
    {
     "data": {
      "text/plain": "LogisticRegression()",
      "text/html": "<style>#sk-container-id-1 {color: black;background-color: white;}#sk-container-id-1 pre{padding: 0;}#sk-container-id-1 div.sk-toggleable {background-color: white;}#sk-container-id-1 label.sk-toggleable__label {cursor: pointer;display: block;width: 100%;margin-bottom: 0;padding: 0.3em;box-sizing: border-box;text-align: center;}#sk-container-id-1 label.sk-toggleable__label-arrow:before {content: \"▸\";float: left;margin-right: 0.25em;color: #696969;}#sk-container-id-1 label.sk-toggleable__label-arrow:hover:before {color: black;}#sk-container-id-1 div.sk-estimator:hover label.sk-toggleable__label-arrow:before {color: black;}#sk-container-id-1 div.sk-toggleable__content {max-height: 0;max-width: 0;overflow: hidden;text-align: left;background-color: #f0f8ff;}#sk-container-id-1 div.sk-toggleable__content pre {margin: 0.2em;color: black;border-radius: 0.25em;background-color: #f0f8ff;}#sk-container-id-1 input.sk-toggleable__control:checked~div.sk-toggleable__content {max-height: 200px;max-width: 100%;overflow: auto;}#sk-container-id-1 input.sk-toggleable__control:checked~label.sk-toggleable__label-arrow:before {content: \"▾\";}#sk-container-id-1 div.sk-estimator input.sk-toggleable__control:checked~label.sk-toggleable__label {background-color: #d4ebff;}#sk-container-id-1 div.sk-label input.sk-toggleable__control:checked~label.sk-toggleable__label {background-color: #d4ebff;}#sk-container-id-1 input.sk-hidden--visually {border: 0;clip: rect(1px 1px 1px 1px);clip: rect(1px, 1px, 1px, 1px);height: 1px;margin: -1px;overflow: hidden;padding: 0;position: absolute;width: 1px;}#sk-container-id-1 div.sk-estimator {font-family: monospace;background-color: #f0f8ff;border: 1px dotted black;border-radius: 0.25em;box-sizing: border-box;margin-bottom: 0.5em;}#sk-container-id-1 div.sk-estimator:hover {background-color: #d4ebff;}#sk-container-id-1 div.sk-parallel-item::after {content: \"\";width: 100%;border-bottom: 1px solid gray;flex-grow: 1;}#sk-container-id-1 div.sk-label:hover label.sk-toggleable__label {background-color: #d4ebff;}#sk-container-id-1 div.sk-serial::before {content: \"\";position: absolute;border-left: 1px solid gray;box-sizing: border-box;top: 0;bottom: 0;left: 50%;z-index: 0;}#sk-container-id-1 div.sk-serial {display: flex;flex-direction: column;align-items: center;background-color: white;padding-right: 0.2em;padding-left: 0.2em;position: relative;}#sk-container-id-1 div.sk-item {position: relative;z-index: 1;}#sk-container-id-1 div.sk-parallel {display: flex;align-items: stretch;justify-content: center;background-color: white;position: relative;}#sk-container-id-1 div.sk-item::before, #sk-container-id-1 div.sk-parallel-item::before {content: \"\";position: absolute;border-left: 1px solid gray;box-sizing: border-box;top: 0;bottom: 0;left: 50%;z-index: -1;}#sk-container-id-1 div.sk-parallel-item {display: flex;flex-direction: column;z-index: 1;position: relative;background-color: white;}#sk-container-id-1 div.sk-parallel-item:first-child::after {align-self: flex-end;width: 50%;}#sk-container-id-1 div.sk-parallel-item:last-child::after {align-self: flex-start;width: 50%;}#sk-container-id-1 div.sk-parallel-item:only-child::after {width: 0;}#sk-container-id-1 div.sk-dashed-wrapped {border: 1px dashed gray;margin: 0 0.4em 0.5em 0.4em;box-sizing: border-box;padding-bottom: 0.4em;background-color: white;}#sk-container-id-1 div.sk-label label {font-family: monospace;font-weight: bold;display: inline-block;line-height: 1.2em;}#sk-container-id-1 div.sk-label-container {text-align: center;}#sk-container-id-1 div.sk-container {/* jupyter's `normalize.less` sets `[hidden] { display: none; }` but bootstrap.min.css set `[hidden] { display: none !important; }` so we also need the `!important` here to be able to override the default hidden behavior on the sphinx rendered scikit-learn.org. See: https://github.com/scikit-learn/scikit-learn/issues/21755 */display: inline-block !important;position: relative;}#sk-container-id-1 div.sk-text-repr-fallback {display: none;}</style><div id=\"sk-container-id-1\" class=\"sk-top-container\"><div class=\"sk-text-repr-fallback\"><pre>LogisticRegression()</pre><b>In a Jupyter environment, please rerun this cell to show the HTML representation or trust the notebook. <br />On GitHub, the HTML representation is unable to render, please try loading this page with nbviewer.org.</b></div><div class=\"sk-container\" hidden><div class=\"sk-item\"><div class=\"sk-estimator sk-toggleable\"><input class=\"sk-toggleable__control sk-hidden--visually\" id=\"sk-estimator-id-1\" type=\"checkbox\" checked><label for=\"sk-estimator-id-1\" class=\"sk-toggleable__label sk-toggleable__label-arrow\">LogisticRegression</label><div class=\"sk-toggleable__content\"><pre>LogisticRegression()</pre></div></div></div></div></div>"
     },
     "execution_count": 33,
     "metadata": {},
     "output_type": "execute_result"
    }
   ],
   "source": [
    "model.fit(X_train, y_train)"
   ],
   "metadata": {
    "collapsed": false
   }
  },
  {
   "cell_type": "code",
   "execution_count": 34,
   "outputs": [
    {
     "data": {
      "text/plain": "0.7400804924242425"
     },
     "execution_count": 34,
     "metadata": {},
     "output_type": "execute_result"
    }
   ],
   "source": [
    "model.score(X_test, y_test)"
   ],
   "metadata": {
    "collapsed": false
   }
  },
  {
   "cell_type": "code",
   "execution_count": 35,
   "outputs": [],
   "source": [
    "from sklearn.metrics import roc_auc_score"
   ],
   "metadata": {
    "collapsed": false
   }
  },
  {
   "cell_type": "code",
   "execution_count": 36,
   "outputs": [
    {
     "data": {
      "text/plain": "0.9367563792110761"
     },
     "execution_count": 36,
     "metadata": {},
     "output_type": "execute_result"
    }
   ],
   "source": [
    "roc_auc_score(y_test, model.predict_proba(X_test)[:, 1])"
   ],
   "metadata": {
    "collapsed": false
   }
  },
  {
   "cell_type": "code",
   "execution_count": 37,
   "outputs": [],
   "source": [
    "from sklearn.metrics import roc_curve"
   ],
   "metadata": {
    "collapsed": false
   }
  },
  {
   "cell_type": "code",
   "execution_count": 38,
   "outputs": [],
   "source": [
    "fpr, tpr, thresholds = roc_curve(y_test, model.predict_proba(X_test)[:, 1])"
   ],
   "metadata": {
    "collapsed": false
   }
  },
  {
   "cell_type": "code",
   "execution_count": 41,
   "outputs": [],
   "source": [
    "import matplotlib.pyplot as plt"
   ],
   "metadata": {
    "collapsed": false
   }
  },
  {
   "cell_type": "code",
   "execution_count": 42,
   "outputs": [
    {
     "data": {
      "text/plain": "[<matplotlib.lines.Line2D at 0x7f3cb5992f20>]"
     },
     "execution_count": 42,
     "metadata": {},
     "output_type": "execute_result"
    },
    {
     "data": {
      "text/plain": "<Figure size 640x480 with 1 Axes>",
      "image/png": "[encoded data removed]"
     },
     "metadata": {},
     "output_type": "display_data"
    }
   ],
   "source": [
    "plt.plot(fpr, tpr)"
   ],
   "metadata": {
    "collapsed": false
   }
  },
  {
   "cell_type": "code",
   "execution_count": null,
   "outputs": [],
   "source": [],
   "metadata": {
    "collapsed": false
   }
  },
  {
   "cell_type": "code",
   "execution_count": 46,
   "outputs": [],
   "source": [
    "# Get regression weights as dict with dataframe columns as keys\n",
    "weights = dict(zip(dataset.drop(\"label\", axis=1).columns, model.coef_[0]))"
   ],
   "metadata": {
    "collapsed": false
   }
  },
  {
   "cell_type": "code",
   "execution_count": 48,
   "outputs": [
    {
     "data": {
      "text/plain": "{'utc_timestamp': -6.583257452277163e-10,\n 'acc_x': 4.949215171494411e-17,\n 'acc_y': 1.522011429893379e-17,\n 'acc_z': -6.1327058809918806e-18,\n 'acc_mag': -2.609051818324553e-17,\n 'bvp': 2.4016443691343185e-19,\n 'eda': -1.160650946914007e-18,\n 'hr': -2.6350809137748818e-17,\n 'temp': -2.2273849572587522e-17,\n 'patient_id': -4.572280111042164e-18}"
     },
     "execution_count": 48,
     "metadata": {},
     "output_type": "execute_result"
    }
   ],
   "source": [
    "weights"
   ],
   "metadata": {
    "collapsed": false
   }
  },
  {
   "cell_type": "code",
   "execution_count": null,
   "outputs": [],
   "source": [
    "# tell the model to use the default threshold of 0.5"
   ],
   "metadata": {
    "collapsed": false
   }
  }
 ],
 "metadata": {
  "kernelspec": {
   "display_name": "Python 3 (ipykernel)",
   "language": "python",
   "name": "python3"
  },
  "language_info": {
   "codemirror_mode": {
    "name": "ipython",
    "version": 3
   },
   "file_extension": ".py",
   "mimetype": "text/x-python",
   "name": "python",
   "nbconvert_exporter": "python",
   "pygments_lexer": "ipython3",
   "version": "3.10.6"
  }
 },
 "nbformat": 4,
 "nbformat_minor": 5
}
