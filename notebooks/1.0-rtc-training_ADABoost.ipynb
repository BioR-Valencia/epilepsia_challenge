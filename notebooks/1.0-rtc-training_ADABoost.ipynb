{
 "cells": [
  {
   "cell_type": "code",
   "execution_count": 1,
   "metadata": {},
   "outputs": [],
   "source": [
    "# Jupyter magic extensions that makes our live easier\n",
    "%load_ext autoreload\n",
    "%autoreload 2"
   ]
  },
  {
   "cell_type": "code",
   "execution_count": 3,
   "metadata": {},
   "outputs": [],
   "source": [
    "import os\n",
    "os.chdir('..')"
   ]
  },
  {
   "cell_type": "code",
   "execution_count": 4,
   "metadata": {},
   "outputs": [
    {
     "name": "stdout",
     "output_type": "stream",
     "text": [
      "c:\\Users\\rober\\Documents\\Epilepsy_Challenge\\epilepsia_challenge\n"
     ]
    }
   ],
   "source": [
    "print(os.getcwd())"
   ]
  },
  {
   "cell_type": "code",
   "execution_count": 9,
   "metadata": {},
   "outputs": [
    {
     "ename": "ValueError",
     "evalue": "With n_samples=0, test_size=0.2 and train_size=None, the resulting train set will be empty. Adjust any of the aforementioned parameters.",
     "output_type": "error",
     "traceback": [
      "\u001b[1;31m---------------------------------------------------------------------------\u001b[0m",
      "\u001b[1;31mValueError\u001b[0m                                Traceback (most recent call last)",
      "Cell \u001b[1;32mIn[9], line 9\u001b[0m\n\u001b[0;32m      5\u001b[0m patient \u001b[39m=\u001b[39m \u001b[39m'\u001b[39m\u001b[39m2002\u001b[39m\u001b[39m'\u001b[39m\n\u001b[0;32m      7\u001b[0m dataset_path \u001b[39m=\u001b[39m \u001b[39m'\u001b[39m\u001b[39mE:\u001b[39m\u001b[39m\\\\\u001b[39;00m\u001b[39mEpilepsy challenge\u001b[39m\u001b[39m\\\\\u001b[39;00m\u001b[39m'\u001b[39m \u001b[39m+\u001b[39m patient \u001b[39m+\u001b[39m \u001b[39m'\u001b[39m\u001b[39m_train\u001b[39m\u001b[39m\\\\\u001b[39;00m\u001b[39mdata\u001b[39m\u001b[39m\\\\\u001b[39;00m\u001b[39mparquet\u001b[39m\u001b[39m\\\\\u001b[39;00m\u001b[39mtrain\u001b[39m\u001b[39m'\u001b[39m\n\u001b[1;32m----> 9\u001b[0m _, results \u001b[39m=\u001b[39m train_pipeline(PandasDatasetLoader(dataset_path),SklearnAdaBoostModel())\n",
      "File \u001b[1;32mc:\\Users\\rober\\Documents\\Epilepsy_Challenge\\epilepsia_challenge\\src\\models\\train_pipeline.py:39\u001b[0m, in \u001b[0;36mtrain_pipeline\u001b[1;34m(data_loader, model, visualize)\u001b[0m\n\u001b[0;32m     27\u001b[0m \u001b[39mdef\u001b[39;00m \u001b[39mtrain_pipeline\u001b[39m(\n\u001b[0;32m     28\u001b[0m     data_loader: DataLoader,\n\u001b[0;32m     29\u001b[0m     model: BaseModel,\n\u001b[0;32m     30\u001b[0m     visualize: \u001b[39mbool\u001b[39m \u001b[39m=\u001b[39m \u001b[39mFalse\u001b[39;00m,\n\u001b[0;32m     31\u001b[0m ):\n\u001b[0;32m     33\u001b[0m     feature_extraction_functions \u001b[39m=\u001b[39m [\n\u001b[0;32m     34\u001b[0m         (Preprocessor()\u001b[39m.\u001b[39mconvert_time_to_radians, {}),\n\u001b[0;32m     35\u001b[0m         (FeatExtractor()\u001b[39m.\u001b[39mmean, {}),\n\u001b[0;32m     36\u001b[0m         (FeatExtractor()\u001b[39m.\u001b[39mstd, {}),\n\u001b[0;32m     37\u001b[0m     ]\n\u001b[1;32m---> 39\u001b[0m     train_generator, test_generator \u001b[39m=\u001b[39m data_loader\u001b[39m.\u001b[39;49mget_generators(\n\u001b[0;32m     40\u001b[0m         \u001b[39m1110\u001b[39;49m, feature_extraction_functions\u001b[39m=\u001b[39;49mfeature_extraction_functions\n\u001b[0;32m     41\u001b[0m     )\n\u001b[0;32m     43\u001b[0m     \u001b[39m\"\"\"Train the model.\"\"\"\u001b[39;00m\n\u001b[0;32m     45\u001b[0m     \u001b[39m# build model\u001b[39;00m\n",
      "File \u001b[1;32mc:\\Users\\rober\\Documents\\Epilepsy_Challenge\\epilepsia_challenge\\src\\data\\make_dataset.py:51\u001b[0m, in \u001b[0;36mDataLoader.get_generators\u001b[1;34m(self, patient_id, feature_extraction_functions)\u001b[0m\n\u001b[0;32m     45\u001b[0m \u001b[39mdef\u001b[39;00m \u001b[39mget_generators\u001b[39m(\n\u001b[0;32m     46\u001b[0m     \u001b[39mself\u001b[39m,\n\u001b[0;32m     47\u001b[0m     patient_id: \u001b[39mint\u001b[39m,\n\u001b[0;32m     48\u001b[0m     feature_extraction_functions: \u001b[39mlist\u001b[39m[\u001b[39mtuple\u001b[39m[callable, \u001b[39mdict\u001b[39m]] \u001b[39m=\u001b[39m [],\n\u001b[0;32m     49\u001b[0m ):\n\u001b[0;32m     50\u001b[0m     patient_labels \u001b[39m=\u001b[39m \u001b[39mself\u001b[39m\u001b[39m.\u001b[39m_get_patient_labels(patient_id, skip_missing_files\u001b[39m=\u001b[39m\u001b[39mTrue\u001b[39;00m)\n\u001b[1;32m---> 51\u001b[0m     train_labels, test_labels \u001b[39m=\u001b[39m \u001b[39mself\u001b[39;49m\u001b[39m.\u001b[39;49m_split_dataset_labels(patient_labels)\n\u001b[0;32m     53\u001b[0m     \u001b[39mdef\u001b[39;00m \u001b[39mtrain_generator\u001b[39m():\n\u001b[0;32m     54\u001b[0m         \u001b[39mfor\u001b[39;00m patient_file, label \u001b[39min\u001b[39;00m train_labels\u001b[39m.\u001b[39mvalues:\n",
      "File \u001b[1;32mc:\\Users\\rober\\Documents\\Epilepsy_Challenge\\epilepsia_challenge\\src\\data\\make_dataset.py:99\u001b[0m, in \u001b[0;36mDataLoader._split_dataset_labels\u001b[1;34m(self, labels)\u001b[0m\n\u001b[0;32m     95\u001b[0m labels \u001b[39m=\u001b[39m \u001b[39mself\u001b[39m\u001b[39m.\u001b[39m_prune_labels(labels)\n\u001b[0;32m     96\u001b[0m \u001b[39m# print(f\"n_labels: {labels}; %_1: {labels['label'].mean()}\")\u001b[39;00m\n\u001b[0;32m     97\u001b[0m \n\u001b[0;32m     98\u001b[0m \u001b[39m# Split labels in train and test with sklearn\u001b[39;00m\n\u001b[1;32m---> 99\u001b[0m train_labels, test_labels \u001b[39m=\u001b[39m train_test_split(\n\u001b[0;32m    100\u001b[0m     labels, test_size\u001b[39m=\u001b[39;49m\u001b[39m0.2\u001b[39;49m, random_state\u001b[39m=\u001b[39;49m\u001b[39m42\u001b[39;49m, stratify\u001b[39m=\u001b[39;49mlabels[\u001b[39m\"\u001b[39;49m\u001b[39mlabel\u001b[39;49m\u001b[39m\"\u001b[39;49m]\n\u001b[0;32m    101\u001b[0m )\n\u001b[0;32m    102\u001b[0m \u001b[39mreturn\u001b[39;00m train_labels, test_labels\n",
      "File \u001b[1;32mc:\\Users\\rober\\Documents\\Epilepsy_Challenge\\epilepsia_challenge\\venv\\lib\\site-packages\\sklearn\\model_selection\\_split.py:2562\u001b[0m, in \u001b[0;36mtrain_test_split\u001b[1;34m(test_size, train_size, random_state, shuffle, stratify, *arrays)\u001b[0m\n\u001b[0;32m   2559\u001b[0m arrays \u001b[39m=\u001b[39m indexable(\u001b[39m*\u001b[39marrays)\n\u001b[0;32m   2561\u001b[0m n_samples \u001b[39m=\u001b[39m _num_samples(arrays[\u001b[39m0\u001b[39m])\n\u001b[1;32m-> 2562\u001b[0m n_train, n_test \u001b[39m=\u001b[39m _validate_shuffle_split(\n\u001b[0;32m   2563\u001b[0m     n_samples, test_size, train_size, default_test_size\u001b[39m=\u001b[39;49m\u001b[39m0.25\u001b[39;49m\n\u001b[0;32m   2564\u001b[0m )\n\u001b[0;32m   2566\u001b[0m \u001b[39mif\u001b[39;00m shuffle \u001b[39mis\u001b[39;00m \u001b[39mFalse\u001b[39;00m:\n\u001b[0;32m   2567\u001b[0m     \u001b[39mif\u001b[39;00m stratify \u001b[39mis\u001b[39;00m \u001b[39mnot\u001b[39;00m \u001b[39mNone\u001b[39;00m:\n",
      "File \u001b[1;32mc:\\Users\\rober\\Documents\\Epilepsy_Challenge\\epilepsia_challenge\\venv\\lib\\site-packages\\sklearn\\model_selection\\_split.py:2236\u001b[0m, in \u001b[0;36m_validate_shuffle_split\u001b[1;34m(n_samples, test_size, train_size, default_test_size)\u001b[0m\n\u001b[0;32m   2233\u001b[0m n_train, n_test \u001b[39m=\u001b[39m \u001b[39mint\u001b[39m(n_train), \u001b[39mint\u001b[39m(n_test)\n\u001b[0;32m   2235\u001b[0m \u001b[39mif\u001b[39;00m n_train \u001b[39m==\u001b[39m \u001b[39m0\u001b[39m:\n\u001b[1;32m-> 2236\u001b[0m     \u001b[39mraise\u001b[39;00m \u001b[39mValueError\u001b[39;00m(\n\u001b[0;32m   2237\u001b[0m         \u001b[39m\"\u001b[39m\u001b[39mWith n_samples=\u001b[39m\u001b[39m{}\u001b[39;00m\u001b[39m, test_size=\u001b[39m\u001b[39m{}\u001b[39;00m\u001b[39m and train_size=\u001b[39m\u001b[39m{}\u001b[39;00m\u001b[39m, the \u001b[39m\u001b[39m\"\u001b[39m\n\u001b[0;32m   2238\u001b[0m         \u001b[39m\"\u001b[39m\u001b[39mresulting train set will be empty. Adjust any of the \u001b[39m\u001b[39m\"\u001b[39m\n\u001b[0;32m   2239\u001b[0m         \u001b[39m\"\u001b[39m\u001b[39maforementioned parameters.\u001b[39m\u001b[39m\"\u001b[39m\u001b[39m.\u001b[39mformat(n_samples, test_size, train_size)\n\u001b[0;32m   2240\u001b[0m     )\n\u001b[0;32m   2242\u001b[0m \u001b[39mreturn\u001b[39;00m n_train, n_test\n",
      "\u001b[1;31mValueError\u001b[0m: With n_samples=0, test_size=0.2 and train_size=None, the resulting train set will be empty. Adjust any of the aforementioned parameters."
     ]
    }
   ],
   "source": [
    "from src.models.train_pipeline import train_pipeline\n",
    "from src.models.models import SklearnAdaBoostModel\n",
    "from src.data.make_dataset import PandasDatasetLoader\n",
    "\n",
    "patient_id = '2002'\n",
    "\n",
    "dataset_path = 'E:\\\\Epilepsy challenge\\\\' + str(patient_id) + '_train\\\\data\\\\parquet\\\\train'\n",
    "\n",
    "_, results = train_pipeline(PandasDatasetLoader(dataset_path),SklearnAdaBoostModel(), patient_id = patient_id, visualize=True)"
   ]
  },
  {
   "cell_type": "code",
   "execution_count": 8,
   "metadata": {},
   "outputs": [
    {
     "name": "stdout",
     "output_type": "stream",
     "text": [
      "              precision    recall  f1-score   support\n",
      "\n",
      "           0       0.89      0.80      0.84        10\n",
      "           1       0.75      0.86      0.80         7\n",
      "\n",
      "    accuracy                           0.82        17\n",
      "   macro avg       0.82      0.83      0.82        17\n",
      "weighted avg       0.83      0.82      0.82        17\n",
      "\n"
     ]
    }
   ],
   "source": [
    "print(results['report'][patient])"
   ]
  },
  {
   "cell_type": "code",
   "execution_count": 4,
   "metadata": {},
   "outputs": [
    {
     "name": "stdout",
     "output_type": "stream",
     "text": [
      "c:\\Users\\rober\\Documents\\Epilepsy_Challenge\\epilepsia_challenge\n"
     ]
    }
   ],
   "source": [
    "import os\n",
    "print(os.getcwd())\n",
    "\n",
    "\n"
   ]
  }
 ],
 "metadata": {
  "kernelspec": {
   "display_name": "venv",
   "language": "python",
   "name": "python3"
  },
  "language_info": {
   "codemirror_mode": {
    "name": "ipython",
    "version": 3
   },
   "file_extension": ".py",
   "mimetype": "text/x-python",
   "name": "python",
   "nbconvert_exporter": "python",
   "pygments_lexer": "ipython3",
   "version": "3.10.9"
  },
  "orig_nbformat": 4,
  "vscode": {
   "interpreter": {
    "hash": "a034139dd78c21c94b9b449258490086dd8a781fbd6464cb435899533d9c5bd8"
   }
  }
 },
 "nbformat": 4,
 "nbformat_minor": 2
}
