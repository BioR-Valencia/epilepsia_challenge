{
 "cells": [
  {
   "cell_type": "code",
   "execution_count": 1,
   "metadata": {},
   "outputs": [],
   "source": [
    "# Jupyter magic extensions that makes our live easier\n",
    "%load_ext autoreload\n",
    "%autoreload 2"
   ]
  },
  {
   "cell_type": "code",
   "execution_count": 26,
   "metadata": {},
   "outputs": [
    {
     "name": "stdout",
     "output_type": "stream",
     "text": [
      "Resultado AUC:  {'1110': 0.8333333333333334} \n",
      "\n",
      "Reporte:  {'1110': '              precision    recall  f1-score   support\\n\\n           0       1.00      0.67      0.80         3\\n           1       0.67      1.00      0.80         2\\n\\n    accuracy                           0.80         5\\n   macro avg       0.83      0.83      0.80         5\\nweighted avg       0.87      0.80      0.80         5\\n'} \n",
      "\n"
     ]
    }
   ],
   "source": [
    "from src.models.train_pipeline import train_pipeline\n",
    "from src.models.models import SklearnAdaBoostModel\n",
    "from src.data.make_dataset import PandasDatasetLoader\n",
    "\n",
    "dataset_path = \"data/raw\"\n",
    "labels_path = \"data/labels/\"\n",
    "\n",
    "train_pipeline(PandasDatasetLoader(dataset_path, labels_path), SklearnAdaBoostModel())"
   ]
  },
  {
   "cell_type": "code",
   "execution_count": 3,
   "metadata": {},
   "outputs": [
    {
     "name": "stdout",
     "output_type": "stream",
     "text": [
      "/home/jmjl/PycharmProjects/epilepsia_challenge/notebooks\n"
     ]
    }
   ],
   "source": [
    "import os\n",
    "\n",
    "print(os.getcwd())\n",
    "\n",
    "os.chdir(\"..\")"
   ]
  },
  {
   "cell_type": "code",
   "execution_count": 4,
   "metadata": {},
   "outputs": [
    {
     "name": "stdout",
     "output_type": "stream",
     "text": [
      "c:\\Users\\rober\\Documents\\Epilepsy_Challenge\\epilepsia_challenge\n"
     ]
    }
   ],
   "source": [
    "import os\n",
    "\n",
    "print(os.getcwd())"
   ]
  }
 ],
 "metadata": {
  "kernelspec": {
   "display_name": "venv",
   "language": "python",
   "name": "python3"
  },
  "language_info": {
   "codemirror_mode": {
    "name": "ipython",
    "version": 3
   },
   "file_extension": ".py",
   "mimetype": "text/x-python",
   "name": "python",
   "nbconvert_exporter": "python",
   "pygments_lexer": "ipython3",
   "version": "3.10.9"
  },
  "orig_nbformat": 4,
  "vscode": {
   "interpreter": {
    "hash": "a034139dd78c21c94b9b449258490086dd8a781fbd6464cb435899533d9c5bd8"
   }
  }
 },
 "nbformat": 4,
 "nbformat_minor": 2
}
