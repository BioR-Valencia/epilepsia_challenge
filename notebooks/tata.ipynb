{
 "cells": [
  {
   "cell_type": "code",
   "execution_count": 1,
   "metadata": {},
   "outputs": [],
   "source": [
    "# Jupyter magic extensions that makes our live easier\n",
    "%load_ext autoreload\n",
    "%autoreload 2"
   ]
  },
  {
   "cell_type": "code",
   "execution_count": 47,
   "metadata": {},
   "outputs": [
    {
     "name": "stdout",
     "output_type": "stream",
     "text": [
      "n_labels:                                       filepath  label\n",
      "986   1110/010/UTC-2020_03_06-02_40_00.parquet      0\n",
      "987   1110/010/UTC-2020_03_06-02_50_00.parquet      0\n",
      "988   1110/010/UTC-2020_03_06-03_00_00.parquet      0\n",
      "989   1110/010/UTC-2020_03_06-03_10_00.parquet      0\n",
      "990   1110/010/UTC-2020_03_06-03_20_00.parquet      0\n",
      "...                                        ...    ...\n",
      "2374  1110/016/UTC-2020_03_17-13_30_00.parquet      0\n",
      "2375  1110/016/UTC-2020_03_17-13_40_00.parquet      0\n",
      "2376  1110/016/UTC-2020_03_17-13_50_00.parquet      0\n",
      "2377  1110/016/UTC-2020_03_17-14_00_00.parquet      0\n",
      "2378  1110/016/UTC-2020_03_17-14_10_00.parquet      0\n",
      "\n",
      "[1393 rows x 2 columns]\n",
      "(1114, 11)\n",
      "(279,)\n",
      "Resultado AUC:  {'1110': 0.4981949458483754} \n",
      "\n",
      "Reporte:  {'1110': '              precision    recall  f1-score   support\\n\\n           0       0.99      1.00      0.99       277\\n           1       0.00      0.00      0.00         2\\n\\n    accuracy                           0.99       279\\n   macro avg       0.50      0.50      0.50       279\\nweighted avg       0.99      0.99      0.99       279\\n'} \n",
      "\n"
     ]
    }
   ],
   "source": [
    "from src.models.train_pipeline import train_pipeline\n",
    "from src.models.models import SklearnAdaBoostModel\n",
    "from src.data.make_dataset import PandasDatasetLoader\n",
    "\n",
    "dataset_path = \"data/raw\"\n",
    "labels_path = \"data/labels/\"\n",
    "\n",
    "train_pipeline(PandasDatasetLoader(dataset_path, labels_path), SklearnAdaBoostModel())"
   ]
  },
  {
   "cell_type": "code",
   "execution_count": 3,
   "metadata": {},
   "outputs": [
    {
     "name": "stdout",
     "output_type": "stream",
     "text": [
      "/home/jmjl/PycharmProjects/epilepsia_challenge/notebooks\n"
     ]
    }
   ],
   "source": [
    "import os\n",
    "\n",
    "print(os.getcwd())\n",
    "\n",
    "os.chdir(\"..\")"
   ]
  },
  {
   "cell_type": "code",
   "execution_count": 4,
   "metadata": {},
   "outputs": [
    {
     "name": "stdout",
     "output_type": "stream",
     "text": [
      "c:\\Users\\rober\\Documents\\Epilepsy_Challenge\\epilepsia_challenge\n"
     ]
    }
   ],
   "source": [
    "import os\n",
    "\n",
    "print(os.getcwd())"
   ]
  }
 ],
 "metadata": {
  "kernelspec": {
   "display_name": "venv",
   "language": "python",
   "name": "python3"
  },
  "language_info": {
   "codemirror_mode": {
    "name": "ipython",
    "version": 3
   },
   "file_extension": ".py",
   "mimetype": "text/x-python",
   "name": "python",
   "nbconvert_exporter": "python",
   "pygments_lexer": "ipython3",
   "version": "3.10.9"
  },
  "orig_nbformat": 4,
  "vscode": {
   "interpreter": {
    "hash": "a034139dd78c21c94b9b449258490086dd8a781fbd6464cb435899533d9c5bd8"
   }
  }
 },
 "nbformat": 4,
 "nbformat_minor": 2
}
