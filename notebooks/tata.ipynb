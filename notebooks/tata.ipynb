{
 "cells": [
  {
   "cell_type": "code",
   "execution_count": 1,
   "metadata": {},
   "outputs": [],
   "source": [
    "import pandas as pd\n",
    "\n",
    "# Jupyter magic extensions that makes our live easier\n",
    "%load_ext autoreload\n",
    "%autoreload 2"
   ]
  },
  {
   "cell_type": "code",
   "execution_count": 58,
   "metadata": {},
   "outputs": [
    {
     "name": "stderr",
     "output_type": "stream",
     "text": [
      "/home/jmjl/PycharmProjects/epilepsia_challenge/src/data/make_dataset.py:124: SettingWithCopyWarning: \n",
      "A value is trying to be set on a copy of a slice from a DataFrame\n",
      "\n",
      "See the caveats in the documentation: https://pandas.pydata.org/pandas-docs/stable/user_guide/indexing.html#returning-a-view-versus-a-copy\n",
      "  return labels\n",
      "/home/jmjl/PycharmProjects/epilepsia_challenge/src/data/make_dataset.py:103: SettingWithCopyWarning: \n",
      "A value is trying to be set on a copy of a slice from a DataFrame.\n",
      "Try using .loc[row_indexer,col_indexer] = value instead\n",
      "\n",
      "See the caveats in the documentation: https://pandas.pydata.org/pandas-docs/stable/user_guide/indexing.html#returning-a-view-versus-a-copy\n",
      "  for i in range(1, 6):\n",
      "/home/jmjl/PycharmProjects/epilepsia_challenge/src/data/make_dataset.py:105: SettingWithCopyWarning: \n",
      "A value is trying to be set on a copy of a slice from a DataFrame.\n",
      "Try using .loc[row_indexer,col_indexer] = value instead\n",
      "\n",
      "See the caveats in the documentation: https://pandas.pydata.org/pandas-docs/stable/user_guide/indexing.html#returning-a-view-versus-a-copy\n",
      "  \n"
     ]
    },
    {
     "name": "stdout",
     "output_type": "stream",
     "text": [
      "n_labels:                                        filepath  label\n",
      "1318   1110/011/UTC-2020_03_08-10_10_00.parquet      0\n",
      "1319   1110/011/UTC-2020_03_08-10_20_00.parquet      0\n",
      "1320   1110/011/UTC-2020_03_08-10_30_00.parquet      0\n",
      "1321   1110/011/UTC-2020_03_08-10_40_00.parquet      0\n",
      "1322   1110/011/UTC-2020_03_08-10_50_00.parquet      0\n",
      "...                                         ...    ...\n",
      "13887  1110/071/UTC-2020_06_16-23_30_00.parquet      0\n",
      "16133  1110/080/UTC-2020_07_06-14_10_00.parquet      0\n",
      "4592   1110/030/UTC-2020_04_04-02_20_00.parquet      0\n",
      "20214  1110/099/UTC-2020_08_09-19_50_00.parquet      0\n",
      "19088  1110/093/UTC-2020_07_31-01_00_00.parquet      0\n",
      "\n",
      "[84 rows x 2 columns]; %_1: 0.42857142857142855\n",
      "(67, 22)\n",
      "(17,)\n",
      "Resultado AUC:  {'1110': 0.8285714285714286} \n",
      "\n",
      "Reporte:  {'1110': '              precision    recall  f1-score   support\\n\\n           0       0.89      0.80      0.84        10\\n           1       0.75      0.86      0.80         7\\n\\n    accuracy                           0.82        17\\n   macro avg       0.82      0.83      0.82        17\\nweighted avg       0.83      0.82      0.82        17\\n'} \n",
      "\n"
     ]
    }
   ],
   "source": [
    "from src.models.train_pipeline import train_pipeline\n",
    "from src.models.models import SklearnAdaBoostModel\n",
    "from src.data.make_dataset import PandasDatasetLoader\n",
    "\n",
    "dataset_path = \"/media/jmjl/Elements/Epilepsy challenge/1110_train/data/parquet/train/\"\n",
    "labels_path = \"/media/jmjl/Elements/Epilepsy challenge\"\n",
    "\n",
    "model, report = train_pipeline(\n",
    "    PandasDatasetLoader(dataset_path, labels_path), SklearnAdaBoostModel()\n",
    ")"
   ]
  },
  {
   "cell_type": "code",
   "execution_count": 60,
   "metadata": {},
   "outputs": [
    {
     "name": "stdout",
     "output_type": "stream",
     "text": [
      "              precision    recall  f1-score   support\n",
      "\n",
      "           0       0.89      0.80      0.84        10\n",
      "           1       0.75      0.86      0.80         7\n",
      "\n",
      "    accuracy                           0.82        17\n",
      "   macro avg       0.82      0.83      0.82        17\n",
      "weighted avg       0.83      0.82      0.82        17\n",
      "\n"
     ]
    }
   ],
   "source": [
    "print(report[\"report\"][\"1110\"])"
   ]
  },
  {
   "cell_type": "code",
   "execution_count": 61,
   "outputs": [
    {
     "data": {
      "text/plain": "array([0.11, 0.05, 0.07, 0.11, 0.02, 0.06, 0.07, 0.04, 0.12, 0.05, 0.04,\n       0.  , 0.03, 0.02, 0.06, 0.01, 0.01, 0.03, 0.05, 0.04, 0.01, 0.  ])"
     },
     "execution_count": 61,
     "metadata": {},
     "output_type": "execute_result"
    }
   ],
   "source": [
    "model.model.feature_importances_"
   ],
   "metadata": {
    "collapsed": false
   }
  },
  {
   "cell_type": "code",
   "execution_count": 82,
   "metadata": {},
   "outputs": [
    {
     "name": "stderr",
     "output_type": "stream",
     "text": [
      "/home/jmjl/PycharmProjects/epilepsia_challenge/src/data/make_dataset.py:127: SettingWithCopyWarning: \n",
      "A value is trying to be set on a copy of a slice from a DataFrame\n",
      "\n",
      "See the caveats in the documentation: https://pandas.pydata.org/pandas-docs/stable/user_guide/indexing.html#returning-a-view-versus-a-copy\n",
      "  labels.drop(columns=[\"patient\", \"folder\"], inplace=True)\n",
      "/home/jmjl/PycharmProjects/epilepsia_challenge/src/data/make_dataset.py:106: SettingWithCopyWarning: \n",
      "A value is trying to be set on a copy of a slice from a DataFrame.\n",
      "Try using .loc[row_indexer,col_indexer] = value instead\n",
      "\n",
      "See the caveats in the documentation: https://pandas.pydata.org/pandas-docs/stable/user_guide/indexing.html#returning-a-view-versus-a-copy\n",
      "  labels[\"sum_next_5_labels\"] = 0\n",
      "/home/jmjl/PycharmProjects/epilepsia_challenge/src/data/make_dataset.py:108: SettingWithCopyWarning: \n",
      "A value is trying to be set on a copy of a slice from a DataFrame.\n",
      "Try using .loc[row_indexer,col_indexer] = value instead\n",
      "\n",
      "See the caveats in the documentation: https://pandas.pydata.org/pandas-docs/stable/user_guide/indexing.html#returning-a-view-versus-a-copy\n",
      "  labels[\"sum_next_5_labels\"] += labels[\"label\"].shift(-i)\n"
     ]
    }
   ],
   "source": [
    "from src.features.build_features import FeatExtractor\n",
    "from src.features.Preprocessor import Preprocessor\n",
    "\n",
    "g, _ = PandasDatasetLoader(dataset_path, labels_path).get_generators(\n",
    "    1110,\n",
    "    feature_extraction_functions=[\n",
    "        (Preprocessor().convert_time_to_radians, {}),\n",
    "        (FeatExtractor().mean, {}),\n",
    "        (FeatExtractor().std, {}),\n",
    "    ],\n",
    ")\n",
    "d, l, _ = next(g)"
   ]
  },
  {
   "cell_type": "code",
   "execution_count": 85,
   "outputs": [
    {
     "data": {
      "text/plain": "                               0  importance\nutc_timestamp_mean  1.583668e+09        0.11\nacc_x_mean         -1.288810e+01        0.05\nacc_y_mean         -3.754519e+01        0.07\nacc_z_mean         -2.461814e+01        0.11\nacc_mag_mean        6.276951e+01        0.02\nbvp_mean            2.316680e-02        0.06\neda_mean            2.911571e-01        0.07\nhr_mean             5.114656e+01        0.04\ntemp_mean           3.531520e+01        0.12\ntime_sin_mean       6.543422e-02        0.05\ntime_cos_mean      -9.977774e-01        0.04\nutc_timestamp_std   1.732062e+02        0.00\nacc_x_std           2.216309e+01        0.03\nacc_y_std           8.089201e+00        0.02\nacc_z_std           3.645819e+01        0.06\nacc_mag_std         1.036053e+00        0.01\nbvp_std             4.597953e+01        0.01\neda_std             2.127085e-02        0.03\nhr_std              5.123335e+00        0.05\ntemp_std            1.410233e-01        0.04\ntime_sin_std        1.256830e-02        0.01\ntime_cos_std        8.272637e-04        0.00",
      "text/html": "<div>\n<style scoped>\n    .dataframe tbody tr th:only-of-type {\n        vertical-align: middle;\n    }\n\n    .dataframe tbody tr th {\n        vertical-align: top;\n    }\n\n    .dataframe thead th {\n        text-align: right;\n    }\n</style>\n<table border=\"1\" class=\"dataframe\">\n  <thead>\n    <tr style=\"text-align: right;\">\n      <th></th>\n      <th>0</th>\n      <th>importance</th>\n    </tr>\n  </thead>\n  <tbody>\n    <tr>\n      <th>utc_timestamp_mean</th>\n      <td>1.583668e+09</td>\n      <td>0.11</td>\n    </tr>\n    <tr>\n      <th>acc_x_mean</th>\n      <td>-1.288810e+01</td>\n      <td>0.05</td>\n    </tr>\n    <tr>\n      <th>acc_y_mean</th>\n      <td>-3.754519e+01</td>\n      <td>0.07</td>\n    </tr>\n    <tr>\n      <th>acc_z_mean</th>\n      <td>-2.461814e+01</td>\n      <td>0.11</td>\n    </tr>\n    <tr>\n      <th>acc_mag_mean</th>\n      <td>6.276951e+01</td>\n      <td>0.02</td>\n    </tr>\n    <tr>\n      <th>bvp_mean</th>\n      <td>2.316680e-02</td>\n      <td>0.06</td>\n    </tr>\n    <tr>\n      <th>eda_mean</th>\n      <td>2.911571e-01</td>\n      <td>0.07</td>\n    </tr>\n    <tr>\n      <th>hr_mean</th>\n      <td>5.114656e+01</td>\n      <td>0.04</td>\n    </tr>\n    <tr>\n      <th>temp_mean</th>\n      <td>3.531520e+01</td>\n      <td>0.12</td>\n    </tr>\n    <tr>\n      <th>time_sin_mean</th>\n      <td>6.543422e-02</td>\n      <td>0.05</td>\n    </tr>\n    <tr>\n      <th>time_cos_mean</th>\n      <td>-9.977774e-01</td>\n      <td>0.04</td>\n    </tr>\n    <tr>\n      <th>utc_timestamp_std</th>\n      <td>1.732062e+02</td>\n      <td>0.00</td>\n    </tr>\n    <tr>\n      <th>acc_x_std</th>\n      <td>2.216309e+01</td>\n      <td>0.03</td>\n    </tr>\n    <tr>\n      <th>acc_y_std</th>\n      <td>8.089201e+00</td>\n      <td>0.02</td>\n    </tr>\n    <tr>\n      <th>acc_z_std</th>\n      <td>3.645819e+01</td>\n      <td>0.06</td>\n    </tr>\n    <tr>\n      <th>acc_mag_std</th>\n      <td>1.036053e+00</td>\n      <td>0.01</td>\n    </tr>\n    <tr>\n      <th>bvp_std</th>\n      <td>4.597953e+01</td>\n      <td>0.01</td>\n    </tr>\n    <tr>\n      <th>eda_std</th>\n      <td>2.127085e-02</td>\n      <td>0.03</td>\n    </tr>\n    <tr>\n      <th>hr_std</th>\n      <td>5.123335e+00</td>\n      <td>0.05</td>\n    </tr>\n    <tr>\n      <th>temp_std</th>\n      <td>1.410233e-01</td>\n      <td>0.04</td>\n    </tr>\n    <tr>\n      <th>time_sin_std</th>\n      <td>1.256830e-02</td>\n      <td>0.01</td>\n    </tr>\n    <tr>\n      <th>time_cos_std</th>\n      <td>8.272637e-04</td>\n      <td>0.00</td>\n    </tr>\n  </tbody>\n</table>\n</div>"
     },
     "execution_count": 85,
     "metadata": {},
     "output_type": "execute_result"
    }
   ],
   "source": [
    "# d = d.to_frame()\n",
    "d[\"importance\"] = model.model.feature_importances_\n",
    "d"
   ],
   "metadata": {
    "collapsed": false
   }
  }
 ],
 "metadata": {
  "kernelspec": {
   "display_name": "venv",
   "language": "python",
   "name": "python3"
  },
  "language_info": {
   "codemirror_mode": {
    "name": "ipython",
    "version": 3
   },
   "file_extension": ".py",
   "mimetype": "text/x-python",
   "name": "python",
   "nbconvert_exporter": "python",
   "pygments_lexer": "ipython3",
   "version": "3.10.9"
  },
  "orig_nbformat": 4,
  "vscode": {
   "interpreter": {
    "hash": "a034139dd78c21c94b9b449258490086dd8a781fbd6464cb435899533d9c5bd8"
   }
  }
 },
 "nbformat": 4,
 "nbformat_minor": 2
}
